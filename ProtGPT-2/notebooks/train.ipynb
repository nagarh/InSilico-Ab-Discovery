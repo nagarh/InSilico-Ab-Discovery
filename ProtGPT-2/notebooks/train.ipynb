{
 "cells": [
  {
   "cell_type": "code",
   "execution_count": 7,
   "metadata": {},
   "outputs": [],
   "source": [
    "import torch\n",
    "from torch.utils.data import DataLoader, Dataset\n",
    "from transformers import AutoTokenizer, AutoConfig, AutoModelForCausalLM\n",
    "from tqdm import tqdm\n",
    "import os\n",
    "import pandas as pd\n",
    "from torch.utils.tensorboard import SummaryWriter\n",
    "import sys \n",
    "import matplotlib.pyplot as plt"
   ]
  },
  {
   "cell_type": "code",
   "execution_count": 3,
   "metadata": {},
   "outputs": [],
   "source": [
    "os.chdir('ProtGPT-2')"
   ]
  },
  {
   "cell_type": "code",
   "execution_count": 4,
   "metadata": {},
   "outputs": [],
   "source": [
    "# Step 1: Dataset class to generate input tensors from the processed sequences \n",
    "\n",
    "class AntibodyDataset(Dataset):\n",
    "    def __init__(self, sequences, tokenizer, max_length=512):\n",
    "        self.sequences = sequences\n",
    "        self.tokenizer = tokenizer\n",
    "        self.max_length = max_length\n",
    "\n",
    "    def __len__(self):\n",
    "        return len(self.sequences)\n",
    "\n",
    "    def __getitem__(self, idx):\n",
    "        encoded = self.tokenizer(\n",
    "            self.sequences[idx],\n",
    "            truncation=True,\n",
    "            max_length=self.max_length,\n",
    "            padding=\"max_length\",\n",
    "            return_tensors=\"pt\",\n",
    "        )\n",
    "        return {\n",
    "            \"input_ids\": encoded[\"input_ids\"].squeeze(),\n",
    "            \"attention_mask\": encoded[\"attention_mask\"].squeeze(),\n",
    "            \"labels\": encoded[\"input_ids\"].squeeze(),\n",
    "        }"
   ]
  },
  {
   "cell_type": "code",
   "execution_count": 5,
   "metadata": {},
   "outputs": [],
   "source": [
    "# Step 2: Load Tokenizer and from the model\n",
    "model_name = \"nferruz/ProtGPT2\"\n",
    "tokenizer = AutoTokenizer.from_pretrained(model_name)"
   ]
  },
  {
   "cell_type": "code",
   "execution_count": 6,
   "metadata": {},
   "outputs": [],
   "source": [
    "# Add a padding token if not already present\n",
    "if tokenizer.pad_token is None:\n",
    "    tokenizer.add_special_tokens({'pad_token': '[PAD]'})"
   ]
  },
  {
   "cell_type": "code",
   "execution_count": 7,
   "metadata": {},
   "outputs": [],
   "source": [
    "# Save the updated tokenizer\n",
    "#tokenizer.save_pretrained('./updated_tokenizer')"
   ]
  },
  {
   "cell_type": "code",
   "execution_count": 8,
   "metadata": {},
   "outputs": [
    {
     "data": {
      "text/plain": [
       "Embedding(50258, 1280)"
      ]
     },
     "execution_count": 8,
     "metadata": {},
     "output_type": "execute_result"
    }
   ],
   "source": [
    "# Load the model configuration and update the vocab size for the special tokens\n",
    "# model is initialized with random weights\n",
    "\n",
    "config = AutoConfig.from_pretrained(model_name)\n",
    "config.vocab_size = len(tokenizer)  # Update vocab size for special tokens\n",
    "model = AutoModelForCausalLM.from_config(config)\n",
    "model.resize_token_embeddings(len(tokenizer))"
   ]
  },
  {
   "cell_type": "code",
   "execution_count": 9,
   "metadata": {},
   "outputs": [],
   "source": [
    "# Load training sequences\n",
    "sequences_train = pd.read_csv('../data/processed/Prot_input_seq_train_data.csv', header=None)\n",
    "sequences_train.columns = ['sequences']\n",
    "sequences_train = sequences_train['sequences'].tolist()\n",
    "\n",
    "# Load validation sequences\n",
    "sequences_valid = pd.read_csv('../data/processed/Prot_input_seq_val_data.csv', header=None)\n",
    "sequences_valid.columns = ['sequences']\n",
    "sequences_valid = sequences_valid['sequences'].tolist()"
   ]
  },
  {
   "cell_type": "code",
   "execution_count": 10,
   "metadata": {},
   "outputs": [],
   "source": [
    "# Create Dataset and DataLoader\n",
    "dataset_train = AntibodyDataset(sequences_train, tokenizer)\n",
    "dataloader_train = DataLoader(dataset_train, batch_size=16, shuffle=True)\n",
    "\n",
    "dataset_valid = AntibodyDataset(sequences_valid, tokenizer)\n",
    "dataloader_valid = DataLoader(dataset_valid, batch_size=16, shuffle=True)"
   ]
  },
  {
   "cell_type": "code",
   "execution_count": 11,
   "metadata": {},
   "outputs": [],
   "source": [
    "# Step 4: Set Up Training\n",
    "device = torch.device(\"cuda\" if torch.cuda.is_available() else \"cpu\")\n",
    "model = model.to(device)"
   ]
  },
  {
   "cell_type": "code",
   "execution_count": 12,
   "metadata": {},
   "outputs": [],
   "source": [
    "optimizer = torch.optim.AdamW(model.parameters(), lr=5e-4, weight_decay=1e-5) # AdamW optimizer\n",
    "num_epochs = 2 # Number of epochs to train model"
   ]
  },
  {
   "cell_type": "code",
   "execution_count": 13,
   "metadata": {},
   "outputs": [],
   "source": [
    "# Step 5: Initialize TensorBoard writer\n",
    "writer = SummaryWriter(log_dir=\"logs\")"
   ]
  },
  {
   "cell_type": "code",
   "execution_count": 14,
   "metadata": {},
   "outputs": [],
   "source": [
    "# Create models directory to save the trained model, updated tokenizer and checkpoints in 'checkpoints' directory\n",
    "os.makedirs(\"./models/checkpoints\", exist_ok=True)"
   ]
  },
  {
   "cell_type": "code",
   "execution_count": 15,
   "metadata": {},
   "outputs": [],
   "source": [
    "# Model evaluation function\n",
    "\n",
    "def validate(model, val_dataloader, device, writer, epoch, step):\n",
    "    model.eval()  \n",
    "    val_loss = 0\n",
    "\n",
    "    with torch.no_grad():  \n",
    "        for step_val, batch in enumerate(tqdm(val_dataloader, desc=\"Validation Progress\", file=sys.stdout.flush())):\n",
    "            input_ids = batch[\"input_ids\"].to(device)\n",
    "            attention_mask = batch[\"attention_mask\"].to(device)\n",
    "            labels = batch[\"labels\"].to(device)\n",
    "\n",
    "            outputs = model(input_ids, attention_mask=attention_mask, labels=labels)\n",
    "            loss = outputs.loss\n",
    "            logits = outputs.logits\n",
    "\n",
    "            val_loss += loss.item()\n",
    "            \n",
    "            # Log step loss to TensorBoard\n",
    "            writer.add_scalar('Validation Loss/Step', loss.item(), epoch * len(val_dataloader) + step_val)\n",
    "\n",
    "    avg_val_loss = val_loss / len(val_dataloader)\n",
    "    writer.add_scalar('Validation Loss/epoch', avg_val_loss, epoch * len(val_dataloader) + step)\n",
    "\n",
    "\n",
    "    print(f\"Validation Loss: {avg_val_loss}\")"
   ]
  },
  {
   "cell_type": "code",
   "execution_count": 16,
   "metadata": {},
   "outputs": [
    {
     "name": "stdout",
     "output_type": "stream",
     "text": [
      "Epoch 1/2\n"
     ]
    },
    {
     "name": "stderr",
     "output_type": "stream",
     "text": [
      " 46%|████▋     | 499/1075 [09:17<10:41,  1.11s/it]"
     ]
    },
    {
     "name": "stdout",
     "output_type": "stream",
     "text": [
      "Checkpoint saved at: ./models/checkpoints/checkpoint_epoch_1_step_500/checkpoint.pth\n",
      "Running validation at step 500...\n"
     ]
    },
    {
     "name": "stderr",
     "output_type": "stream",
     "text": [
      "Validation Progress: 100%|██████████| 120/120 [00:42<00:00,  2.79it/s]\n",
      " 47%|████▋     | 500/1075 [10:10<2:39:31, 16.65s/it]"
     ]
    },
    {
     "name": "stdout",
     "output_type": "stream",
     "text": [
      "Validation Loss: 0.5811623215675354\n"
     ]
    },
    {
     "name": "stderr",
     "output_type": "stream",
     "text": [
      " 93%|█████████▎| 999/1075 [19:15<01:22,  1.09s/it]  "
     ]
    },
    {
     "name": "stdout",
     "output_type": "stream",
     "text": [
      "Checkpoint saved at: ./models/checkpoints/checkpoint_epoch_1_step_1000/checkpoint.pth\n",
      "Running validation at step 1000...\n"
     ]
    },
    {
     "name": "stderr",
     "output_type": "stream",
     "text": [
      "Validation Progress: 100%|██████████| 120/120 [00:43<00:00,  2.79it/s]\n",
      " 93%|█████████▎| 1000/1075 [20:07<20:37, 16.50s/it]"
     ]
    },
    {
     "name": "stdout",
     "output_type": "stream",
     "text": [
      "Validation Loss: 0.14529657264550527\n"
     ]
    },
    {
     "name": "stderr",
     "output_type": "stream",
     "text": [
      "100%|██████████| 1075/1075 [21:29<00:00,  1.20s/it]\n"
     ]
    },
    {
     "name": "stdout",
     "output_type": "stream",
     "text": [
      "Epoch 1 Training Loss: 0.5721751197063646\n",
      "Epoch 2/2\n"
     ]
    },
    {
     "name": "stderr",
     "output_type": "stream",
     "text": [
      " 46%|████▋     | 499/1075 [09:04<10:28,  1.09s/it]"
     ]
    },
    {
     "name": "stdout",
     "output_type": "stream",
     "text": [
      "Checkpoint saved at: ./models/checkpoints/checkpoint_epoch_2_step_500/checkpoint.pth\n",
      "Running validation at step 500...\n"
     ]
    },
    {
     "name": "stderr",
     "output_type": "stream",
     "text": [
      "Validation Progress: 100%|██████████| 120/120 [00:43<00:00,  2.79it/s]\n",
      " 47%|████▋     | 500/1075 [10:04<2:58:03, 18.58s/it]"
     ]
    },
    {
     "name": "stdout",
     "output_type": "stream",
     "text": [
      "Validation Loss: 0.13168553256740173\n"
     ]
    },
    {
     "name": "stderr",
     "output_type": "stream",
     "text": [
      " 93%|█████████▎| 999/1075 [19:08<01:22,  1.09s/it]  "
     ]
    },
    {
     "name": "stdout",
     "output_type": "stream",
     "text": [
      "Checkpoint saved at: ./models/checkpoints/checkpoint_epoch_2_step_1000/checkpoint.pth\n",
      "Running validation at step 1000...\n"
     ]
    },
    {
     "name": "stderr",
     "output_type": "stream",
     "text": [
      "Validation Progress: 100%|██████████| 120/120 [00:43<00:00,  2.79it/s]\n",
      " 93%|█████████▎| 1000/1075 [20:01<20:32, 16.43s/it]"
     ]
    },
    {
     "name": "stdout",
     "output_type": "stream",
     "text": [
      "Validation Loss: 0.13612292166799306\n"
     ]
    },
    {
     "name": "stderr",
     "output_type": "stream",
     "text": [
      "100%|██████████| 1075/1075 [21:22<00:00,  1.19s/it]\n"
     ]
    },
    {
     "name": "stdout",
     "output_type": "stream",
     "text": [
      "Epoch 2 Training Loss: 0.13747887546239898\n"
     ]
    }
   ],
   "source": [
    "# Training loop for the model \n",
    "\n",
    "model.train()\n",
    "for epoch in range(num_epochs):\n",
    "    epoch_loss = 0\n",
    "    print(f\"Epoch {epoch+1}/{num_epochs}\")\n",
    "    for step, batch in enumerate(tqdm(dataloader_train)):\n",
    "        input_ids = batch[\"input_ids\"].to(device)\n",
    "        attention_mask = batch[\"attention_mask\"].to(device)\n",
    "        labels = batch[\"labels\"].to(device)\n",
    "\n",
    "        outputs = model(input_ids, attention_mask=attention_mask, labels=labels)\n",
    "        loss = outputs.loss\n",
    "\n",
    "        optimizer.zero_grad()\n",
    "        loss.backward()\n",
    "        optimizer.step()\n",
    "\n",
    "        epoch_loss += loss.item()\n",
    "\n",
    "        # Log step loss to TensorBoard\n",
    "        writer.add_scalar('Training Loss/Step', loss.item(), epoch * len(dataloader_train) + step)\n",
    "        #print(f\"Step Loss: {loss.item()}\")\n",
    "\n",
    "        # Save checkpoint every 500 steps\n",
    "        if (step + 1) % 500 == 0:\n",
    "            checkpoint_dir = f\"./models/checkpoints/checkpoint_epoch_{epoch+1}_step_{step+1}\"\n",
    "            os.makedirs(checkpoint_dir, exist_ok=True)\n",
    "            checkpoint_path = os.path.join(checkpoint_dir, \"checkpoint.pth\")\n",
    "            torch.save({\n",
    "                'epoch': epoch + 1,\n",
    "                'step': step + 1,\n",
    "                'model_state_dict': model.state_dict(),\n",
    "                'optimizer_state_dict': optimizer.state_dict(),\n",
    "                'loss': loss.item(),\n",
    "            }, checkpoint_path)\n",
    "            print(f\"Checkpoint saved at: {checkpoint_path}\")\n",
    "\n",
    "\n",
    "        # Validate after every 500 steps\n",
    "        if (step + 1) % 500 == 0:\n",
    "            print(f\"Running validation at step {step + 1}...\")\n",
    "            validate(model, dataloader_valid, device, writer, epoch, step)\n",
    "\n",
    "\n",
    "    # Log average epoch loss to TensorBoard\n",
    "    avg_epoch_loss = epoch_loss / len(dataloader_train)\n",
    "    writer.add_scalar('Training Loss/Epoch', avg_epoch_loss, epoch)\n",
    "\n",
    "    print(f\"Epoch {epoch + 1} Training Loss: {avg_epoch_loss}\")\n",
    "\n",
    "\n",
    "# Create models directory to save the trained model and updated tokenizer\n",
    "os.makedirs(\"./models/protgpt2_antibody_model\", exist_ok=True)\n",
    "\n",
    "# Step 7: Save the Trained Model and Tokenizer\n",
    "model.save_pretrained(\"./models//protgpt2_antibody_model\")\n",
    "tokenizer.save_pretrained(\"./models/protgpt2_antibody_model\")\n",
    "\n",
    "# Step 8: Close the TensorBoard writer\n",
    "writer.close()"
   ]
  },
  {
   "cell_type": "markdown",
   "metadata": {},
   "source": [
    "### Plot training and validation loss"
   ]
  },
  {
   "cell_type": "code",
   "execution_count": 23,
   "metadata": {},
   "outputs": [],
   "source": [
    "training_loss_data = pd.read_csv('./data/Training_loss.csv')"
   ]
  },
  {
   "cell_type": "code",
   "execution_count": 24,
   "metadata": {},
   "outputs": [],
   "source": [
    "val_data_x =[500, 1000, 1500, 2000]\n",
    "val_data_y = [0.58116, 0.14530, 0.13612, 0.13745]"
   ]
  },
  {
   "cell_type": "code",
   "execution_count": 25,
   "metadata": {},
   "outputs": [
    {
     "data": {
      "text/html": [
       "<div>\n",
       "<style scoped>\n",
       "    .dataframe tbody tr th:only-of-type {\n",
       "        vertical-align: middle;\n",
       "    }\n",
       "\n",
       "    .dataframe tbody tr th {\n",
       "        vertical-align: top;\n",
       "    }\n",
       "\n",
       "    .dataframe thead th {\n",
       "        text-align: right;\n",
       "    }\n",
       "</style>\n",
       "<table border=\"1\" class=\"dataframe\">\n",
       "  <thead>\n",
       "    <tr style=\"text-align: right;\">\n",
       "      <th></th>\n",
       "      <th>Wall time</th>\n",
       "      <th>Step</th>\n",
       "      <th>Value</th>\n",
       "    </tr>\n",
       "  </thead>\n",
       "  <tbody>\n",
       "    <tr>\n",
       "      <th>0</th>\n",
       "      <td>1.735223e+09</td>\n",
       "      <td>3</td>\n",
       "      <td>4.332076</td>\n",
       "    </tr>\n",
       "    <tr>\n",
       "      <th>1</th>\n",
       "      <td>1.735223e+09</td>\n",
       "      <td>4</td>\n",
       "      <td>2.063510</td>\n",
       "    </tr>\n",
       "    <tr>\n",
       "      <th>2</th>\n",
       "      <td>1.735223e+09</td>\n",
       "      <td>10</td>\n",
       "      <td>2.230232</td>\n",
       "    </tr>\n",
       "    <tr>\n",
       "      <th>3</th>\n",
       "      <td>1.735223e+09</td>\n",
       "      <td>14</td>\n",
       "      <td>1.859230</td>\n",
       "    </tr>\n",
       "    <tr>\n",
       "      <th>4</th>\n",
       "      <td>1.735224e+09</td>\n",
       "      <td>15</td>\n",
       "      <td>1.749781</td>\n",
       "    </tr>\n",
       "    <tr>\n",
       "      <th>...</th>\n",
       "      <td>...</td>\n",
       "      <td>...</td>\n",
       "      <td>...</td>\n",
       "    </tr>\n",
       "    <tr>\n",
       "      <th>995</th>\n",
       "      <td>1.735226e+09</td>\n",
       "      <td>2136</td>\n",
       "      <td>0.146742</td>\n",
       "    </tr>\n",
       "    <tr>\n",
       "      <th>996</th>\n",
       "      <td>1.735226e+09</td>\n",
       "      <td>2138</td>\n",
       "      <td>0.154183</td>\n",
       "    </tr>\n",
       "    <tr>\n",
       "      <th>997</th>\n",
       "      <td>1.735226e+09</td>\n",
       "      <td>2139</td>\n",
       "      <td>0.143844</td>\n",
       "    </tr>\n",
       "    <tr>\n",
       "      <th>998</th>\n",
       "      <td>1.735226e+09</td>\n",
       "      <td>2143</td>\n",
       "      <td>0.134321</td>\n",
       "    </tr>\n",
       "    <tr>\n",
       "      <th>999</th>\n",
       "      <td>1.735226e+09</td>\n",
       "      <td>2149</td>\n",
       "      <td>0.141462</td>\n",
       "    </tr>\n",
       "  </tbody>\n",
       "</table>\n",
       "<p>1000 rows × 3 columns</p>\n",
       "</div>"
      ],
      "text/plain": [
       "        Wall time  Step     Value\n",
       "0    1.735223e+09     3  4.332076\n",
       "1    1.735223e+09     4  2.063510\n",
       "2    1.735223e+09    10  2.230232\n",
       "3    1.735223e+09    14  1.859230\n",
       "4    1.735224e+09    15  1.749781\n",
       "..            ...   ...       ...\n",
       "995  1.735226e+09  2136  0.146742\n",
       "996  1.735226e+09  2138  0.154183\n",
       "997  1.735226e+09  2139  0.143844\n",
       "998  1.735226e+09  2143  0.134321\n",
       "999  1.735226e+09  2149  0.141462\n",
       "\n",
       "[1000 rows x 3 columns]"
      ]
     },
     "execution_count": 25,
     "metadata": {},
     "output_type": "execute_result"
    }
   ],
   "source": [
    "training_loss_data"
   ]
  },
  {
   "cell_type": "code",
   "execution_count": 26,
   "metadata": {},
   "outputs": [
    {
     "data": {
      "image/png": "[encoded data removed]",
      "text/plain": [
       "<Figure size 640x480 with 1 Axes>"
      ]
     },
     "metadata": {},
     "output_type": "display_data"
    }
   ],
   "source": [
    "plt.plot(training_loss_data['Step'], training_loss_data['Value'], color='blue')\n",
    "plt.xlabel('Step')\n",
    "plt.ylabel('Loss')\n",
    "plt.title('Training Loss of ProtGPT-2 Model')\n",
    "plt.savefig('./data/Training_loss.png', dpi=300)\n",
    "plt.show()"
   ]
  },
  {
   "cell_type": "code",
   "execution_count": 27,
   "metadata": {},
   "outputs": [
    {
     "data": {
      "image/png": "[encoded data removed]",
      "text/plain": [
       "<Figure size 640x480 with 1 Axes>"
      ]
     },
     "metadata": {},
     "output_type": "display_data"
    }
   ],
   "source": [
    "# Model is evaluated on every 500 steps\n",
    "\n",
    "plt.plot(val_data_x, val_data_y, marker='o', color='red')\n",
    "plt.xlabel('Step')\n",
    "plt.ylabel('Loss')\n",
    "plt.title('Validation Loss of ProtGPT-2 Model')\n",
    "plt.savefig('./data/Validation_loss.png', dpi=300)\n",
    "plt.show()"
   ]
  },
  {
   "cell_type": "code",
   "execution_count": null,
   "metadata": {},
   "outputs": [],
   "source": []
  }
 ],
 "metadata": {
  "kernelspec": {
   "display_name": "Data_analysis",
   "language": "python",
   "name": "your_environment_name"
  },
  "language_info": {
   "codemirror_mode": {
    "name": "ipython",
    "version": 3
   },
   "file_extension": ".py",
   "mimetype": "text/x-python",
   "name": "python",
   "nbconvert_exporter": "python",
   "pygments_lexer": "ipython3",
   "version": "3.12.7"
  }
 },
 "nbformat": 4,
 "nbformat_minor": 2
}
