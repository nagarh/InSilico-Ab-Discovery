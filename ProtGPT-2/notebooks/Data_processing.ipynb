{
 "cells": [
  {
   "cell_type": "code",
   "execution_count": 1,
   "metadata": {},
   "outputs": [],
   "source": [
    "import os \n",
    "import pandas as pd\n",
    "from sklearn.model_selection import train_test_split"
   ]
  },
  {
   "cell_type": "markdown",
   "metadata": {},
   "source": [
    "### Read the IGHV3-IGKV1 pair sequences"
   ]
  },
  {
   "cell_type": "code",
   "execution_count": 13,
   "metadata": {},
   "outputs": [],
   "source": [
    "data = pd.read_csv('/data/hn533621/InSilico-Ab-Discovery/Paired_Seq_Data_Analysis/IGHV3_IGKV1_Paired_BType_Naive_B_Cells_Disease_None.csv')"
   ]
  },
  {
   "cell_type": "code",
   "execution_count": 14,
   "metadata": {},
   "outputs": [
    {
     "data": {
      "text/html": [
       "<div>\n",
       "<style scoped>\n",
       "    .dataframe tbody tr th:only-of-type {\n",
       "        vertical-align: middle;\n",
       "    }\n",
       "\n",
       "    .dataframe tbody tr th {\n",
       "        vertical-align: top;\n",
       "    }\n",
       "\n",
       "    .dataframe thead th {\n",
       "        text-align: right;\n",
       "    }\n",
       "</style>\n",
       "<table border=\"1\" class=\"dataframe\">\n",
       "  <thead>\n",
       "    <tr style=\"text-align: right;\">\n",
       "      <th></th>\n",
       "      <th>v_call_heavy</th>\n",
       "      <th>sequence_alignment_aa_heavy</th>\n",
       "      <th>fwr1_aa_heavy</th>\n",
       "      <th>cdr1_aa_heavy</th>\n",
       "      <th>fwr2_aa_heavy</th>\n",
       "      <th>cdr2_aa_heavy</th>\n",
       "      <th>fwr3_aa_heavy</th>\n",
       "      <th>fwr4_aa_heavy</th>\n",
       "      <th>cdr3_aa_heavy</th>\n",
       "      <th>v_call_light</th>\n",
       "      <th>...</th>\n",
       "      <th>Age</th>\n",
       "      <th>BSource</th>\n",
       "      <th>BType</th>\n",
       "      <th>Subject</th>\n",
       "      <th>Disease</th>\n",
       "      <th>Vaccine</th>\n",
       "      <th>Isotype</th>\n",
       "      <th>File Name</th>\n",
       "      <th>v_heavy</th>\n",
       "      <th>v_light</th>\n",
       "    </tr>\n",
       "  </thead>\n",
       "  <tbody>\n",
       "    <tr>\n",
       "      <th>0</th>\n",
       "      <td>IGHV3-74*01</td>\n",
       "      <td>EVQLVESGGGLVQPGGSLRLSCAASGFTFSSYWMHWVRQAPGKGLV...</td>\n",
       "      <td>EVQLVESGGGLVQPGGSLRLSCAAS</td>\n",
       "      <td>GFTFSSYW</td>\n",
       "      <td>MHWVRQAPGKGLVWVSR</td>\n",
       "      <td>INSDGSST</td>\n",
       "      <td>SYADSVKGRFTISRDNAKNTLYLQMNSLRAEDTAVYYC</td>\n",
       "      <td>WGQGTLVTVSS</td>\n",
       "      <td>ARLNIVATIT</td>\n",
       "      <td>IGKV1-5*03</td>\n",
       "      <td>...</td>\n",
       "      <td>38</td>\n",
       "      <td>PBMC</td>\n",
       "      <td>Naive-B-Cells</td>\n",
       "      <td>Donor-3</td>\n",
       "      <td>NaN</td>\n",
       "      <td>NaN</td>\n",
       "      <td>All</td>\n",
       "      <td>/data/hn533621/OAS/Paired_sequences_29_Nov_24/...</td>\n",
       "      <td>IGHV3</td>\n",
       "      <td>IGKV1</td>\n",
       "    </tr>\n",
       "    <tr>\n",
       "      <th>1</th>\n",
       "      <td>IGHV3-23*01</td>\n",
       "      <td>EVQLLESGGGLVQPGGSLRLSCAAAGFTFSSYAMSWVRQAPGKGLE...</td>\n",
       "      <td>EVQLLESGGGLVQPGGSLRLSCAAA</td>\n",
       "      <td>GFTFSSYA</td>\n",
       "      <td>MSWVRQAPGKGLEWVSA</td>\n",
       "      <td>ISDSGGST</td>\n",
       "      <td>YYADSVKGRFTISRDNSKNTLYLQMNSLRAEDTAVYYC</td>\n",
       "      <td>WGQGTLVTVSS</td>\n",
       "      <td>AMSPSARVTVFFDY</td>\n",
       "      <td>IGKV1-39*01</td>\n",
       "      <td>...</td>\n",
       "      <td>38</td>\n",
       "      <td>PBMC</td>\n",
       "      <td>Naive-B-Cells</td>\n",
       "      <td>Donor-3</td>\n",
       "      <td>NaN</td>\n",
       "      <td>NaN</td>\n",
       "      <td>All</td>\n",
       "      <td>/data/hn533621/OAS/Paired_sequences_29_Nov_24/...</td>\n",
       "      <td>IGHV3</td>\n",
       "      <td>IGKV1</td>\n",
       "    </tr>\n",
       "    <tr>\n",
       "      <th>2</th>\n",
       "      <td>IGHV3-48*01</td>\n",
       "      <td>EVQLVESGGGLVQPGGSLRLSCAASGFTFSSYSMNWVRQAPGKGLE...</td>\n",
       "      <td>EVQLVESGGGLVQPGGSLRLSCAAS</td>\n",
       "      <td>GFTFSSYS</td>\n",
       "      <td>MNWVRQAPGKGLEWVSY</td>\n",
       "      <td>ISSSSSTI</td>\n",
       "      <td>YYADSVKGRFTISRDNAKNSLYLQMNSLRAEDTAVYYC</td>\n",
       "      <td>WGQGTMVTVSS</td>\n",
       "      <td>ARTLWSSSWYRDAFDI</td>\n",
       "      <td>IGKV1-39*01</td>\n",
       "      <td>...</td>\n",
       "      <td>38</td>\n",
       "      <td>PBMC</td>\n",
       "      <td>Naive-B-Cells</td>\n",
       "      <td>Donor-3</td>\n",
       "      <td>NaN</td>\n",
       "      <td>NaN</td>\n",
       "      <td>All</td>\n",
       "      <td>/data/hn533621/OAS/Paired_sequences_29_Nov_24/...</td>\n",
       "      <td>IGHV3</td>\n",
       "      <td>IGKV1</td>\n",
       "    </tr>\n",
       "    <tr>\n",
       "      <th>3</th>\n",
       "      <td>IGHV3-66*02</td>\n",
       "      <td>EVQLVESGGGLVQPGGSLRLSCAASGFTVSSNYMSWVRQAPGKGLE...</td>\n",
       "      <td>EVQLVESGGGLVQPGGSLRLSCAAS</td>\n",
       "      <td>GFTVSSNY</td>\n",
       "      <td>MSWVRQAPGKGLEWVSV</td>\n",
       "      <td>IYSGGST</td>\n",
       "      <td>YYADSVKGRFTISRDNSKNTLYLQMNSLRAEDTAVYYC</td>\n",
       "      <td>WGQGTMVTVSS</td>\n",
       "      <td>ARDHGSGSYDAFDI</td>\n",
       "      <td>IGKV1-39*01</td>\n",
       "      <td>...</td>\n",
       "      <td>38</td>\n",
       "      <td>PBMC</td>\n",
       "      <td>Naive-B-Cells</td>\n",
       "      <td>Donor-3</td>\n",
       "      <td>NaN</td>\n",
       "      <td>NaN</td>\n",
       "      <td>All</td>\n",
       "      <td>/data/hn533621/OAS/Paired_sequences_29_Nov_24/...</td>\n",
       "      <td>IGHV3</td>\n",
       "      <td>IGKV1</td>\n",
       "    </tr>\n",
       "    <tr>\n",
       "      <th>4</th>\n",
       "      <td>IGHV3-21*01</td>\n",
       "      <td>EVQLVESGGGLVKPGGSLRLSCAASGFTFSSYSMNWVRQAPGKGLE...</td>\n",
       "      <td>EVQLVESGGGLVKPGGSLRLSCAAS</td>\n",
       "      <td>GFTFSSYS</td>\n",
       "      <td>MNWVRQAPGKGLEWVSS</td>\n",
       "      <td>ISSSSSYI</td>\n",
       "      <td>YYADSVKGRFTISRDNAKNSLYLQMNSLRAEDTAVYYC</td>\n",
       "      <td>WGQGTMVTVSS</td>\n",
       "      <td>ARDSLHCSGGSCYSEAFDI</td>\n",
       "      <td>IGKV1-39*01</td>\n",
       "      <td>...</td>\n",
       "      <td>38</td>\n",
       "      <td>PBMC</td>\n",
       "      <td>Naive-B-Cells</td>\n",
       "      <td>Donor-3</td>\n",
       "      <td>NaN</td>\n",
       "      <td>NaN</td>\n",
       "      <td>All</td>\n",
       "      <td>/data/hn533621/OAS/Paired_sequences_29_Nov_24/...</td>\n",
       "      <td>IGHV3</td>\n",
       "      <td>IGKV1</td>\n",
       "    </tr>\n",
       "  </tbody>\n",
       "</table>\n",
       "<p>5 rows × 29 columns</p>\n",
       "</div>"
      ],
      "text/plain": [
       "  v_call_heavy                        sequence_alignment_aa_heavy  \\\n",
       "0  IGHV3-74*01  EVQLVESGGGLVQPGGSLRLSCAASGFTFSSYWMHWVRQAPGKGLV...   \n",
       "1  IGHV3-23*01  EVQLLESGGGLVQPGGSLRLSCAAAGFTFSSYAMSWVRQAPGKGLE...   \n",
       "2  IGHV3-48*01  EVQLVESGGGLVQPGGSLRLSCAASGFTFSSYSMNWVRQAPGKGLE...   \n",
       "3  IGHV3-66*02  EVQLVESGGGLVQPGGSLRLSCAASGFTVSSNYMSWVRQAPGKGLE...   \n",
       "4  IGHV3-21*01  EVQLVESGGGLVKPGGSLRLSCAASGFTFSSYSMNWVRQAPGKGLE...   \n",
       "\n",
       "               fwr1_aa_heavy cdr1_aa_heavy      fwr2_aa_heavy cdr2_aa_heavy  \\\n",
       "0  EVQLVESGGGLVQPGGSLRLSCAAS      GFTFSSYW  MHWVRQAPGKGLVWVSR      INSDGSST   \n",
       "1  EVQLLESGGGLVQPGGSLRLSCAAA      GFTFSSYA  MSWVRQAPGKGLEWVSA      ISDSGGST   \n",
       "2  EVQLVESGGGLVQPGGSLRLSCAAS      GFTFSSYS  MNWVRQAPGKGLEWVSY      ISSSSSTI   \n",
       "3  EVQLVESGGGLVQPGGSLRLSCAAS      GFTVSSNY  MSWVRQAPGKGLEWVSV       IYSGGST   \n",
       "4  EVQLVESGGGLVKPGGSLRLSCAAS      GFTFSSYS  MNWVRQAPGKGLEWVSS      ISSSSSYI   \n",
       "\n",
       "                            fwr3_aa_heavy fwr4_aa_heavy        cdr3_aa_heavy  \\\n",
       "0  SYADSVKGRFTISRDNAKNTLYLQMNSLRAEDTAVYYC   WGQGTLVTVSS           ARLNIVATIT   \n",
       "1  YYADSVKGRFTISRDNSKNTLYLQMNSLRAEDTAVYYC   WGQGTLVTVSS       AMSPSARVTVFFDY   \n",
       "2  YYADSVKGRFTISRDNAKNSLYLQMNSLRAEDTAVYYC   WGQGTMVTVSS     ARTLWSSSWYRDAFDI   \n",
       "3  YYADSVKGRFTISRDNSKNTLYLQMNSLRAEDTAVYYC   WGQGTMVTVSS       ARDHGSGSYDAFDI   \n",
       "4  YYADSVKGRFTISRDNAKNSLYLQMNSLRAEDTAVYYC   WGQGTMVTVSS  ARDSLHCSGGSCYSEAFDI   \n",
       "\n",
       "  v_call_light  ... Age BSource          BType  Subject Disease Vaccine  \\\n",
       "0   IGKV1-5*03  ...  38    PBMC  Naive-B-Cells  Donor-3     NaN     NaN   \n",
       "1  IGKV1-39*01  ...  38    PBMC  Naive-B-Cells  Donor-3     NaN     NaN   \n",
       "2  IGKV1-39*01  ...  38    PBMC  Naive-B-Cells  Donor-3     NaN     NaN   \n",
       "3  IGKV1-39*01  ...  38    PBMC  Naive-B-Cells  Donor-3     NaN     NaN   \n",
       "4  IGKV1-39*01  ...  38    PBMC  Naive-B-Cells  Donor-3     NaN     NaN   \n",
       "\n",
       "  Isotype                                          File Name v_heavy  v_light  \n",
       "0     All  /data/hn533621/OAS/Paired_sequences_29_Nov_24/...   IGHV3    IGKV1  \n",
       "1     All  /data/hn533621/OAS/Paired_sequences_29_Nov_24/...   IGHV3    IGKV1  \n",
       "2     All  /data/hn533621/OAS/Paired_sequences_29_Nov_24/...   IGHV3    IGKV1  \n",
       "3     All  /data/hn533621/OAS/Paired_sequences_29_Nov_24/...   IGHV3    IGKV1  \n",
       "4     All  /data/hn533621/OAS/Paired_sequences_29_Nov_24/...   IGHV3    IGKV1  \n",
       "\n",
       "[5 rows x 29 columns]"
      ]
     },
     "execution_count": 14,
     "metadata": {},
     "output_type": "execute_result"
    }
   ],
   "source": [
    "data.head(5)"
   ]
  },
  {
   "cell_type": "markdown",
   "metadata": {},
   "source": [
    "### Input sequence format for ProtGPT-2 model"
   ]
  },
  {
   "cell_type": "code",
   "execution_count": 16,
   "metadata": {},
   "outputs": [],
   "source": [
    "data['Prot_input_seq'] = '<' + data['sequence_alignment_aa_heavy'] + '|' + data['sequence_alignment_aa_light'] + '>'"
   ]
  },
  {
   "cell_type": "code",
   "execution_count": 20,
   "metadata": {},
   "outputs": [],
   "source": [
    "# Split the data into 90% for training and 10% for validation\n",
    "train_data, val_data = train_test_split(data['Prot_input_seq'], test_size=0.1, random_state=42)"
   ]
  },
  {
   "cell_type": "code",
   "execution_count": 22,
   "metadata": {},
   "outputs": [
    {
     "name": "stdout",
     "output_type": "stream",
     "text": [
      "<EVQLVESGGGLVQPGGSLRLSCAASGFTFSSYWMHWVRQAPGKGLVWVSRINSDGSSTSYADSVKGRFTISRDNAKNTLYLQMNSLRAEDTAVYYCARLNIVATITWGQGTLVTVSS|DIQMTQSPSTLSASVGDRVTITCRASQSISSWLAWYQQKPGKAPKLLIYKASSLESGVPSRFSGSGSGTEFTLTISSLQPDDFATYYCQQYNSYSWTFGQGTKVEIK>\n"
     ]
    }
   ],
   "source": [
    "print(train_data.loc[0])"
   ]
  },
  {
   "cell_type": "markdown",
   "metadata": {},
   "source": [
    "### Write data in a csv file"
   ]
  },
  {
   "cell_type": "code",
   "execution_count": 23,
   "metadata": {},
   "outputs": [],
   "source": [
    "train_data.to_csv('../data/processed/Prot_input_seq_train_data.csv', index=False, header=False)\n",
    "val_data.to_csv('../data/processed/Prot_input_seq_train_data.csv/Prot_input_seq_val_data.csv', index=False, header=False)"
   ]
  },
  {
   "cell_type": "code",
   "execution_count": null,
   "metadata": {},
   "outputs": [],
   "source": []
  }
 ],
 "metadata": {
  "kernelspec": {
   "display_name": "Data_analysis",
   "language": "python",
   "name": "your_environment_name"
  },
  "language_info": {
   "codemirror_mode": {
    "name": "ipython",
    "version": 3
   },
   "file_extension": ".py",
   "mimetype": "text/x-python",
   "name": "python",
   "nbconvert_exporter": "python",
   "pygments_lexer": "ipython3",
   "version": "3.12.7"
  }
 },
 "nbformat": 4,
 "nbformat_minor": 2
}
